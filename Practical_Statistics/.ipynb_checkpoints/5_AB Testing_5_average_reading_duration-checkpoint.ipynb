{
 "cells": [
  {
   "cell_type": "code",
   "execution_count": 1,
   "metadata": {},
   "outputs": [],
   "source": [
    "import numpy as np\n",
    "import pandas as pd\n",
    "import matplotlib.pyplot as plt\n",
    "\n",
    "%matplotlib inline"
   ]
  },
  {
   "cell_type": "code",
   "execution_count": 2,
   "metadata": {},
   "outputs": [
    {
     "data": {
      "text/html": [
       "<div>\n",
       "<style scoped>\n",
       "    .dataframe tbody tr th:only-of-type {\n",
       "        vertical-align: middle;\n",
       "    }\n",
       "\n",
       "    .dataframe tbody tr th {\n",
       "        vertical-align: top;\n",
       "    }\n",
       "\n",
       "    .dataframe thead th {\n",
       "        text-align: right;\n",
       "    }\n",
       "</style>\n",
       "<table border=\"1\" class=\"dataframe\">\n",
       "  <thead>\n",
       "    <tr style=\"text-align: right;\">\n",
       "      <th></th>\n",
       "      <th>timestamp</th>\n",
       "      <th>id</th>\n",
       "      <th>group</th>\n",
       "      <th>action</th>\n",
       "      <th>duration</th>\n",
       "    </tr>\n",
       "  </thead>\n",
       "  <tbody>\n",
       "    <tr>\n",
       "      <td>0</td>\n",
       "      <td>2016-09-24 17:14:52.012145</td>\n",
       "      <td>261869</td>\n",
       "      <td>experiment</td>\n",
       "      <td>view</td>\n",
       "      <td>130.545004</td>\n",
       "    </tr>\n",
       "    <tr>\n",
       "      <td>1</td>\n",
       "      <td>2016-09-24 18:45:09.645857</td>\n",
       "      <td>226546</td>\n",
       "      <td>experiment</td>\n",
       "      <td>view</td>\n",
       "      <td>159.862440</td>\n",
       "    </tr>\n",
       "    <tr>\n",
       "      <td>2</td>\n",
       "      <td>2016-09-24 19:16:21.002533</td>\n",
       "      <td>286353</td>\n",
       "      <td>experiment</td>\n",
       "      <td>view</td>\n",
       "      <td>79.349315</td>\n",
       "    </tr>\n",
       "    <tr>\n",
       "      <td>3</td>\n",
       "      <td>2016-09-24 19:43:06.927785</td>\n",
       "      <td>842279</td>\n",
       "      <td>experiment</td>\n",
       "      <td>view</td>\n",
       "      <td>55.536126</td>\n",
       "    </tr>\n",
       "    <tr>\n",
       "      <td>4</td>\n",
       "      <td>2016-09-24 21:08:22.790333</td>\n",
       "      <td>781883</td>\n",
       "      <td>experiment</td>\n",
       "      <td>view</td>\n",
       "      <td>204.322437</td>\n",
       "    </tr>\n",
       "  </tbody>\n",
       "</table>\n",
       "</div>"
      ],
      "text/plain": [
       "                    timestamp      id       group action    duration\n",
       "0  2016-09-24 17:14:52.012145  261869  experiment   view  130.545004\n",
       "1  2016-09-24 18:45:09.645857  226546  experiment   view  159.862440\n",
       "2  2016-09-24 19:16:21.002533  286353  experiment   view   79.349315\n",
       "3  2016-09-24 19:43:06.927785  842279  experiment   view   55.536126\n",
       "4  2016-09-24 21:08:22.790333  781883  experiment   view  204.322437"
      ]
     },
     "execution_count": 2,
     "metadata": {},
     "output_type": "execute_result"
    }
   ],
   "source": [
    "df = pd.read_csv('./data/course_page_actions.csv')\n",
    "df.head()"
   ]
  },
  {
   "cell_type": "markdown",
   "metadata": {},
   "source": [
    "In addition to computing the enrollment rate, we can also compute the average reading durations with this dataset. The two analyses so far were on difference in proportions. With this metric, we'll be analyzing difference in means. Which is still really similar."
   ]
  },
  {
   "cell_type": "code",
   "execution_count": 3,
   "metadata": {},
   "outputs": [],
   "source": [
    "#  Since we're comparing reading durations, we only care about view actions - so let's filter by that first\n",
    "views = df.query('action == \"view\"')"
   ]
  },
  {
   "cell_type": "code",
   "execution_count": 4,
   "metadata": {},
   "outputs": [
    {
     "data": {
      "text/html": [
       "<div>\n",
       "<style scoped>\n",
       "    .dataframe tbody tr th:only-of-type {\n",
       "        vertical-align: middle;\n",
       "    }\n",
       "\n",
       "    .dataframe tbody tr th {\n",
       "        vertical-align: top;\n",
       "    }\n",
       "\n",
       "    .dataframe thead th {\n",
       "        text-align: right;\n",
       "    }\n",
       "</style>\n",
       "<table border=\"1\" class=\"dataframe\">\n",
       "  <thead>\n",
       "    <tr style=\"text-align: right;\">\n",
       "      <th></th>\n",
       "      <th>id</th>\n",
       "      <th>group</th>\n",
       "      <th>duration</th>\n",
       "    </tr>\n",
       "  </thead>\n",
       "  <tbody>\n",
       "    <tr>\n",
       "      <td>0</td>\n",
       "      <td>183260</td>\n",
       "      <td>control</td>\n",
       "      <td>107.331484</td>\n",
       "    </tr>\n",
       "    <tr>\n",
       "      <td>1</td>\n",
       "      <td>183615</td>\n",
       "      <td>experiment</td>\n",
       "      <td>24.627594</td>\n",
       "    </tr>\n",
       "    <tr>\n",
       "      <td>2</td>\n",
       "      <td>184277</td>\n",
       "      <td>experiment</td>\n",
       "      <td>193.212489</td>\n",
       "    </tr>\n",
       "    <tr>\n",
       "      <td>3</td>\n",
       "      <td>184360</td>\n",
       "      <td>experiment</td>\n",
       "      <td>226.586283</td>\n",
       "    </tr>\n",
       "    <tr>\n",
       "      <td>4</td>\n",
       "      <td>184589</td>\n",
       "      <td>experiment</td>\n",
       "      <td>12.052097</td>\n",
       "    </tr>\n",
       "  </tbody>\n",
       "</table>\n",
       "</div>"
      ],
      "text/plain": [
       "       id       group    duration\n",
       "0  183260     control  107.331484\n",
       "1  183615  experiment   24.627594\n",
       "2  184277  experiment  193.212489\n",
       "3  184360  experiment  226.586283\n",
       "4  184589  experiment   12.052097"
      ]
     },
     "execution_count": 4,
     "metadata": {},
     "output_type": "execute_result"
    }
   ],
   "source": [
    "# And let's only count each unique user once by finding their average reading duration if they've\n",
    "# visited the site more than once. We'll also group by group just so we keep track of that information\n",
    "reading_times = views.groupby(['id', 'group'])['duration'].mean()\n",
    "# This isn't super necessary, but resetting the index is nice just so we keep id and group as column names\n",
    "# and let's us continue working in a dataframe instead of multi indexed series\n",
    "reading_times = reading_times.reset_index()\n",
    "reading_times.head()"
   ]
  },
  {
   "cell_type": "code",
   "execution_count": 5,
   "metadata": {},
   "outputs": [
    {
     "data": {
      "text/plain": [
       "(115.40710650582038, 130.93220512539477)"
      ]
     },
     "execution_count": 5,
     "metadata": {},
     "output_type": "execute_result"
    }
   ],
   "source": [
    "# now, we can find the average reading durations for each group like this\n",
    "control_mean = df.query('group == \"control\"').duration.mean()\n",
    "experiment_mean = df.query('group == \"experiment\"').duration.mean()\n",
    "control_mean, experiment_mean"
   ]
  },
  {
   "cell_type": "code",
   "execution_count": 6,
   "metadata": {},
   "outputs": [
    {
     "data": {
      "text/plain": [
       "15.525098619574393"
      ]
     },
     "execution_count": 6,
     "metadata": {},
     "output_type": "execute_result"
    }
   ],
   "source": [
    "# On average, it looks like users in the experiment group spent __ more seconds on the course over page than\n",
    "# those in the control group\n",
    "obs_diff = experiment_mean - control_mean\n",
    "obs_diff"
   ]
  },
  {
   "cell_type": "code",
   "execution_count": 7,
   "metadata": {},
   "outputs": [],
   "source": [
    "# To see if this difference in significant, let's simulate a sampling distribution for the difference in mean reading\n",
    "# durations with boostrapping\n",
    "diffs = []\n",
    "for _ in range(10000):\n",
    "    b_samp = df.sample(df.shape[0], replace=True)\n",
    "    control_mean = b_samp.query('group == \"control\"').duration.mean()\n",
    "    experiment_mean = b_samp.query('group == \"experiment\"').duration.mean()\n",
    "    diffs.append(experiment_mean - control_mean)"
   ]
  },
  {
   "cell_type": "code",
   "execution_count": 8,
   "metadata": {},
   "outputs": [],
   "source": [
    "diffs = np.array(diffs)"
   ]
  },
  {
   "cell_type": "code",
   "execution_count": 9,
   "metadata": {},
   "outputs": [
    {
     "data": {
      "image/png": "[encoded data removed]",
      "text/plain": [
       "<Figure size 432x288 with 1 Axes>"
      ]
     },
     "metadata": {
      "needs_background": "light"
     },
     "output_type": "display_data"
    }
   ],
   "source": [
    "# here's what the sampling distribution looks like\n",
    "plt.hist(diffs);"
   ]
  },
  {
   "cell_type": "code",
   "execution_count": 10,
   "metadata": {},
   "outputs": [],
   "source": [
    "# Now to find the p-value, let's simulate the distribution under the null and find the probability that our observed\n",
    "# statistic came from this distribution\n",
    "# We'll create the a distribution centered at zero with the same spread and size as our sampling distribution\n",
    "null_vals = np.random.normal(0, diffs.std(), diffs.size)"
   ]
  },
  {
   "cell_type": "code",
   "execution_count": 11,
   "metadata": {},
   "outputs": [
    {
     "data": {
      "image/png": "[encoded data removed]",
      "text/plain": [
       "<Figure size 432x288 with 1 Axes>"
      ]
     },
     "metadata": {
      "needs_background": "light"
     },
     "output_type": "display_data"
    }
   ],
   "source": [
    "# Here's our null distribution\n",
    "plt.hist(null_vals);"
   ]
  },
  {
   "cell_type": "code",
   "execution_count": 12,
   "metadata": {},
   "outputs": [
    {
     "data": {
      "image/png": "[encoded data removed]",
      "text/plain": [
       "<Figure size 432x288 with 1 Axes>"
      ]
     },
     "metadata": {
      "needs_background": "light"
     },
     "output_type": "display_data"
    }
   ],
   "source": [
    "# and where our observed statistic falls\n",
    "plt.hist(null_vals)\n",
    "plt.axvline(x=obs_diff, color='red');"
   ]
  },
  {
   "cell_type": "code",
   "execution_count": 13,
   "metadata": {},
   "outputs": [
    {
     "data": {
      "text/plain": [
       "0.0"
      ]
     },
     "execution_count": 13,
     "metadata": {},
     "output_type": "execute_result"
    }
   ],
   "source": [
    "# Our statistic definitely doesn't look like it came from this null distribution. Looks like the difference we\n",
    "# observed is significant!\n",
    "(null_vals > obs_diff).mean()"
   ]
  },
  {
   "cell_type": "code",
   "execution_count": null,
   "metadata": {},
   "outputs": [],
   "source": []
  }
 ],
 "metadata": {
  "kernelspec": {
   "display_name": "Python 3",
   "language": "python",
   "name": "python3"
  },
  "language_info": {
   "codemirror_mode": {
    "name": "ipython",
    "version": 3
   },
   "file_extension": ".py",
   "mimetype": "text/x-python",
   "name": "python",
   "nbconvert_exporter": "python",
   "pygments_lexer": "ipython3",
   "version": "3.7.4"
  }
 },
 "nbformat": 4,
 "nbformat_minor": 2
}
